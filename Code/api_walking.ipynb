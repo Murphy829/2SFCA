{
 "cells": [
  {
   "cell_type": "code",
   "execution_count": 35,
   "id": "c3554b40-5f79-4572-bfcc-eb6ada1f8181",
   "metadata": {},
   "outputs": [],
   "source": [
    "# Call libraries\n",
    "import geopandas as gpd\n",
    "import matplotlib.pyplot as plt\n",
    "import networkx as nx\n",
    "import numpy as np\n",
    "import osmnx as ox\n",
    "import pandas as pd\n",
    "from shapely import geometry\n",
    "import libpysal\n",
    "import time\n",
    "from rasterstats import zonal_stats\n",
    "\n",
    "import warnings\n",
    "warnings.filterwarnings(\"ignore\")"
   ]
  },
  {
   "cell_type": "code",
   "execution_count": 36,
   "id": "722fff5d-8a26-4d3e-ba39-ed5215c1941b",
   "metadata": {},
   "outputs": [],
   "source": [
    "# WGS84和GJC坐标系转换函数\n",
    "# -*- coding: utf-8 -*-\n",
    "import json\n",
    "import urllib\n",
    "import math\n",
    "# import numpy as np\n",
    "\n",
    "x_pi = 3.14159265358979324 * 3000.0 / 180.0\n",
    "pi = 3.1415926535897932384626  # π\n",
    "a = 6378245.0  # 长半轴\n",
    "ee = 0.00669342162296594323  # 偏心率平方\n",
    "\n",
    "\n",
    "'''\n",
    "输入（经度，维度）\n",
    "'''\n",
    "def bd09_to_gcj02(bd_lon, bd_lat):\n",
    "    \"\"\"\n",
    "    百度坐标系(BD-09)转火星坐标系(GCJ-02)\n",
    "    百度——>谷歌、高德\n",
    "    :param bd_lat:百度坐标纬度\n",
    "    :param bd_lon:百度坐标经度\n",
    "    :return:转换后的坐标列表形式\n",
    "    \"\"\"\n",
    "    x = bd_lon - 0.0065\n",
    "    y = bd_lat - 0.006\n",
    "    z = math.sqrt(x * x + y * y) - 0.00002 * math.sin(y * x_pi)\n",
    "    theta = math.atan2(y, x) - 0.000003 * math.cos(x * x_pi)\n",
    "    gg_lng = z * math.cos(theta)\n",
    "    gg_lat = z * math.sin(theta)\n",
    "    return [gg_lng, gg_lat]\n",
    "def gcj02_to_wgs84(lng, lat):\n",
    "    \"\"\"\n",
    "    GCJ02(火星坐标系)转GPS84\n",
    "    :param lng:火星坐标系的经度\n",
    "    :param lat:火星坐标系纬度\n",
    "    :return:\n",
    "    \"\"\"\n",
    "    if out_of_china(lng, lat):\n",
    "        return [lng, lat]\n",
    "    dlat = _transformlat(lng - 105.0, lat - 35.0)\n",
    "    dlng = _transformlng(lng - 105.0, lat - 35.0)\n",
    "    radlat = lat / 180.0 * pi\n",
    "    magic = math.sin(radlat)\n",
    "    magic = 1 - ee * magic * magic\n",
    "    sqrtmagic = math.sqrt(magic)\n",
    "    dlat = (dlat * 180.0) / ((a * (1 - ee)) / (magic * sqrtmagic) * pi)\n",
    "    dlng = (dlng * 180.0) / (a / sqrtmagic * math.cos(radlat) * pi)\n",
    "    mglat = lat + dlat\n",
    "    mglng = lng + dlng\n",
    "    return [lng * 2 - mglng, lat * 2 - mglat]\n",
    "def bd09_to_wgs84(bd_lon, bd_lat):\n",
    "    lon, lat = bd09_to_gcj02(bd_lon, bd_lat)\n",
    "    return gcj02_to_wgs84(lon, lat)\n",
    "def bd09_to_wgs84(bd_lon, bd_lat):\n",
    "    lon, lat = bd09_to_gcj02(bd_lon, bd_lat)\n",
    "    return gcj02_to_wgs84(lon, lat)\n",
    "def gcj02_to_bd09(lng, lat):\n",
    "    \"\"\"\n",
    "    火星坐标系(GCJ-02)转百度坐标系(BD-09)\n",
    "    谷歌、高德——>百度\n",
    "    :param lng:火星坐标经度\n",
    "    :param lat:火星坐标纬度\n",
    "    :return:\n",
    "    \"\"\"\n",
    "    z = math.sqrt(lng * lng + lat * lat) + 0.00002 * math.sin(lat * x_pi)\n",
    "    theta = math.atan2(lat, lng) + 0.000003 * math.cos(lng * x_pi)\n",
    "    bd_lng = z * math.cos(theta) + 0.0065\n",
    "    bd_lat = z * math.sin(theta) + 0.006\n",
    "    return [bd_lng, bd_lat]\n",
    "def wgs84_to_gcj02(lng, lat):\n",
    "    \"\"\"\n",
    "    WGS84转GCJ02(火星坐标系)\n",
    "    :param lng:WGS84坐标系的经度\n",
    "    :param lat:WGS84坐标系的纬度\n",
    "    :return:\n",
    "    \"\"\"\n",
    "    if out_of_china(lng, lat):  # 判断是否在国内\n",
    "        return [lng, lat]\n",
    "    dlat = _transformlat(lng - 105.0, lat - 35.0)\n",
    "    dlng = _transformlng(lng - 105.0, lat - 35.0)\n",
    "    radlat = lat / 180.0 * pi\n",
    "    magic = math.sin(radlat)\n",
    "    magic = 1 - ee * magic * magic\n",
    "    sqrtmagic = math.sqrt(magic)\n",
    "    dlat = (dlat * 180.0) / ((a * (1 - ee)) / (magic * sqrtmagic) * pi)\n",
    "    dlng = (dlng * 180.0) / (a / sqrtmagic * math.cos(radlat) * pi)\n",
    "    mglat = lat + dlat\n",
    "    mglng = lng + dlng\n",
    "    return [mglng, mglat]\n",
    "def wgs84_to_bd09(lon, lat):\n",
    "    lon, lat = wgs84_to_gcj02(lon, lat)\n",
    "    return gcj02_to_bd09(lon, lat)\n",
    "\n",
    "def out_of_china(lng, lat):\n",
    "    \"\"\"\n",
    "    判断是否在国内，不在国内不做偏移\n",
    "    :param lng:\n",
    "    :param lat:\n",
    "    :return:\n",
    "    \"\"\"\n",
    "    return not (lng > 73.66 and lng < 135.05 and lat > 3.86 and lat < 53.55)\n",
    "\n",
    "def _transformlng(lng, lat):\n",
    "    ret = 300.0 + lng + 2.0 * lat + 0.1 * lng * lng + \\\n",
    "          0.1 * lng * lat + 0.1 * math.sqrt(math.fabs(lng))\n",
    "    ret += (20.0 * math.sin(6.0 * lng * pi) + 20.0 *\n",
    "            math.sin(2.0 * lng * pi)) * 2.0 / 3.0\n",
    "    ret += (20.0 * math.sin(lng * pi) + 40.0 *\n",
    "            math.sin(lng / 3.0 * pi)) * 2.0 / 3.0\n",
    "    ret += (150.0 * math.sin(lng / 12.0 * pi) + 300.0 *\n",
    "            math.sin(lng / 30.0 * pi)) * 2.0 / 3.0\n",
    "    return ret\n",
    "def _transformlat(lng, lat):\n",
    "    ret = -100.0 + 2.0 * lng + 3.0 * lat + 0.2 * lat * lat + \\\n",
    "          0.1 * lng * lat + 0.2 * math.sqrt(math.fabs(lng))\n",
    "    ret += (20.0 * math.sin(6.0 * lng * pi) + 20.0 *\n",
    "            math.sin(2.0 * lng * pi)) * 2.0 / 3.0\n",
    "    ret += (20.0 * math.sin(lat * pi) + 40.0 *\n",
    "            math.sin(lat / 3.0 * pi)) * 2.0 / 3.0\n",
    "    ret += (160.0 * math.sin(lat / 12.0 * pi) + 320 *\n",
    "            math.sin(lat * pi / 30.0)) * 2.0 / 3.0\n",
    "    return ret\n"
   ]
  },
  {
   "cell_type": "code",
   "execution_count": 32,
   "id": "940b19f5-6522-4636-9db1-860ca66fc890",
   "metadata": {},
   "outputs": [],
   "source": [
    "# 转换WGS84坐标为GCJ02的函数\n",
    "def transform_coordinates(row):\n",
    "    lng_x, lat_x = wgs84_to_gcj02(row['longitude_x'], row['latitude_x'])\n",
    "    lng_y, lat_y = wgs84_to_gcj02(row['longitude_y'], row['latitude_y'])\n",
    "    return pd.Series({'lng_x_gcj02': lng_x, 'lat_x_gcj02': lat_x, 'lng_y_gcj02': lng_y, 'lat_y_gcj02': lat_y})"
   ]
  },
  {
   "cell_type": "code",
   "execution_count": 14,
   "id": "57a07d0f-3f9c-495d-b872-49b3ed106d7b",
   "metadata": {},
   "outputs": [],
   "source": [
    "# 按照经纬度计算距离的函数\n",
    "from math import radians, cos, sin, asin, sqrt\n",
    " \n",
    "def haversine(lon1, lat1, lon2, lat2): # 经度1，纬度1，经度2，纬度2 （十进制度数）\n",
    "    \"\"\"\n",
    "    Calculate the great circle distance between two points \n",
    "    on the earth (specified in decimal degrees)\n",
    "    \"\"\"\n",
    "    # 将十进制度数转化为弧度\n",
    "    lon1, lat1, lon2, lat2 = map(radians, [lon1, lat1, lon2, lat2])\n",
    " \n",
    "    # haversine公式\n",
    "    dlon = lon2 - lon1 \n",
    "    dlat = lat2 - lat1 \n",
    "    a = sin(dlat/2)**2 + cos(lat1) * cos(lat2) * sin(dlon/2)**2\n",
    "    c = 2 * asin(sqrt(a)) \n",
    "    r = 6371 # 地球平均半径，单位为公里\n",
    "    return c * r * 1000"
   ]
  },
  {
   "cell_type": "code",
   "execution_count": 6,
   "id": "3821773d-8cb5-46e5-a398-defbef22ac4d",
   "metadata": {},
   "outputs": [],
   "source": [
    "pop_resid = gpd.read_file('residential_pop.shp') \n",
    "pop_resid = pop_resid.to_crs(epsg = 4326)\n",
    "\n",
    "pop_resid = pop_resid[(pop_resid['sum_pop'] >= 1)]\n",
    "pop_resid['cen'] = pop_resid['geometry'].centroid\n",
    "pop_resid['Popid'] = pop_resid.index + 1\n",
    "\n",
    "pop_resid['longitude'] = pop_resid['cen'].x\n",
    "pop_resid['latitude'] = pop_resid['cen'].y"
   ]
  },
  {
   "cell_type": "markdown",
   "id": "4b2ff2cb-68f3-46eb-89fc-02f6b1af0724",
   "metadata": {},
   "source": [
    "pop_resid"
   ]
  },
  {
   "cell_type": "code",
   "execution_count": 10,
   "id": "ff874c4d-09e3-442f-b51d-969c27e6db2b",
   "metadata": {},
   "outputs": [],
   "source": [
    "community_park = gpd.read_file('community_park_entrance.geojson').to_crs(epsg = 4326)\n",
    "city_park = gpd.read_file('city_park_entrance.geojson').to_crs(epsg = 4326)\n",
    "nature_park = gpd.read_file('nature_park_entrance.geojson').to_crs(epsg = 4326)"
   ]
  },
  {
   "cell_type": "markdown",
   "id": "130e255b-8de8-45e8-913e-fba48b4856c9",
   "metadata": {},
   "source": [
    "## Walking"
   ]
  },
  {
   "cell_type": "markdown",
   "id": "7cc55233-9248-42eb-8cf0-eae0112488c5",
   "metadata": {},
   "source": [
    "1.公园点-popcell质心，直线距离<=10min，高德步行速度75m/min，即750m,的OD对；  \n",
    "2.高德API计算distance，cost；  \n",
    "3.Ga2SFCA计算可达性。"
   ]
  },
  {
   "cell_type": "code",
   "execution_count": 1,
   "id": "16923c31-14f2-444d-afd4-0db2ab461a87",
   "metadata": {},
   "outputs": [],
   "source": [
    "# 调用高德路径规划api-步行，计算路径距离distance（米），耗时cost（秒）\n",
    "# 路径规划1.0\n",
    "import json\n",
    "from urllib import request\n",
    "\n",
    "def fetch_GaodeMap_walking(df):\n",
    "    urlbase = 'https://restapi.amap.com/v3/direction/walking?&key=225cfe7d506a6037debd6a9f4d5aa583&origin={0},{1}&destination={2},{3}'\n",
    "    distances = []\n",
    "    costs = []\n",
    "    exceptions = []  # 用来收集引发异常的行索引\n",
    "\n",
    "    for i, row in df.iterrows():\n",
    "        x1 = row['lng_x_gcj02']\n",
    "        y1 = row['lat_x_gcj02']\n",
    "        x2 = row['lng_y_gcj02']\n",
    "        y2 = row['lat_y_gcj02']\n",
    "        url = urlbase.format(x1, y1, x2, y2)\n",
    "\n",
    "        try:\n",
    "            html = request.urlopen(url, timeout=15).read()\n",
    "            js = json.loads(html)\n",
    "            distance = js['route']['paths'][0]['distance']\n",
    "            cost = js['route']['paths'][0]['duration']\n",
    "        except Exception as e:\n",
    "            print(f\"Error processing row {i}: {e}\")\n",
    "            distance = None\n",
    "            cost = None\n",
    "            exceptions.append(i)  # 将引发异常的行索引添加到列表中\n",
    "\n",
    "        distances.append(distance)\n",
    "        costs.append(cost)\n",
    "\n",
    "    df['distance'] = distances\n",
    "    df['cost'] = costs\n",
    "\n",
    "    return df, exceptions"
   ]
  },
  {
   "cell_type": "markdown",
   "id": "a489da5f-2a90-4c71-8e6d-66c091fc5bcb",
   "metadata": {},
   "source": [
    "### a) Walking——Community park——Travel time thresholds =10min   "
   ]
  },
  {
   "cell_type": "code",
   "execution_count": 19,
   "id": "f150fbaf-2cf8-47e6-92b0-a5a13ee01a5d",
   "metadata": {},
   "outputs": [],
   "source": [
    "# 1 连接pop和park\n",
    "pop_resid['index'] = 1\n",
    "community_park['index'] = 1\n",
    "OD_a = pd.merge(pop_resid, community_park, on='index').drop('index', axis=1)"
   ]
  },
  {
   "cell_type": "code",
   "execution_count": 20,
   "id": "5c050bfa-24ff-4dc0-bd65-602bd0de6de5",
   "metadata": {},
   "outputs": [
    {
     "data": {
      "text/plain": [
       "575820"
      ]
     },
     "execution_count": 20,
     "metadata": {},
     "output_type": "execute_result"
    }
   ],
   "source": [
    "len(OD_a)"
   ]
  },
  {
   "cell_type": "code",
   "execution_count": 21,
   "id": "b4b6ef51-a17c-4bad-8fc9-e592c088e0ec",
   "metadata": {},
   "outputs": [],
   "source": [
    "# 2 根据OD左边计算直线距离，得到新列length\n",
    "OD_a['length'] = OD_a[['longitude_x', 'latitude_x','longitude_y', 'latitude_y',]].\\\n",
    "apply(lambda x:haversine(x[0],x[1],x[2],x[3]),axis=1)"
   ]
  },
  {
   "cell_type": "code",
   "execution_count": 26,
   "id": "56b94299-c4e7-4dbf-b3ea-998f5ea93c96",
   "metadata": {},
   "outputs": [],
   "source": [
    "# 3 筛选lenth<=750m的OD对\n",
    "f_OD_a = OD_a[(OD_a['length'] <= 750)]\n",
    "\n",
    "# 只保留同一个公园直线距离最近的入口\n",
    "idx = f_OD_a.groupby(['Popid', 'Coparkid'])['length'].idxmin()\n",
    "f_OD_a = f_OD_a.loc[idx]"
   ]
  },
  {
   "cell_type": "code",
   "execution_count": 27,
   "id": "f9bd55fa-2915-437f-90df-ad01fc846f6a",
   "metadata": {},
   "outputs": [
    {
     "data": {
      "text/plain": [
       "2135"
      ]
     },
     "execution_count": 27,
     "metadata": {},
     "output_type": "execute_result"
    }
   ],
   "source": [
    "len(f_OD_a)"
   ]
  },
  {
   "cell_type": "code",
   "execution_count": 33,
   "id": "436b5459-7dbd-475a-b695-87c6bb01b1ad",
   "metadata": {},
   "outputs": [],
   "source": [
    "# 4 转换WGS84坐标为GCJ02，便于下一步高德api计算\n",
    "new_columns = f_OD_a.apply(transform_coordinates, axis=1)\n",
    "# 合并原始 DataFrame 和新列\n",
    "f_OD_a_GCJ02 = pd.concat([f_OD_a, new_columns], axis=1)"
   ]
  },
  {
   "cell_type": "code",
   "execution_count": 34,
   "id": "3c0503a2-bdea-4698-a030-2cd01896f209",
   "metadata": {},
   "outputs": [
    {
     "data": {
      "text/plain": [
       "2135"
      ]
     },
     "execution_count": 34,
     "metadata": {},
     "output_type": "execute_result"
    }
   ],
   "source": [
    "len(f_OD_a_GCJ02)"
   ]
  },
  {
   "cell_type": "code",
   "execution_count": 37,
   "id": "7f7403e1-f04e-40c0-8286-441c3ae0d493",
   "metadata": {},
   "outputs": [
    {
     "name": "stdout",
     "output_type": "stream",
     "text": [
      "Exception rows: []\n",
      "Run time:  28.994334121545155 mins\n"
     ]
    }
   ],
   "source": [
    "# 5 使用api计算高德地图时间距离\n",
    "start_time = time.time()\n",
    "\n",
    "ODa_Gaode, exception_rows = fetch_GaodeMap_walking(f_OD_a_GCJ02)\n",
    "print(\"Exception rows:\", exception_rows)\n",
    "\n",
    "end_time = time.time()\n",
    "execution_time = (end_time - start_time)/60\n",
    "print(\"Run time: \", execution_time, \"mins\")"
   ]
  },
  {
   "cell_type": "code",
   "execution_count": null,
   "id": "2b22ea96-8684-494f-a1be-bf795dcb9964",
   "metadata": {},
   "outputs": [],
   "source": [
    "# # 6 检查问题行\n",
    "# exception_df = f_OD_a_GCJ02.loc[exception_rows]\n",
    "\n",
    "# # Calculate Gaode map for exception_df travel time and travel distance again\n",
    "# exception_df_re,exception = fetch_GaodeMap_walking(exception_df)\n",
    "\n",
    "# ODa_Gaode['distance'] = ODa_Gaode['distance'].combine_first(exception_df_re['distance'])\n",
    "# ODa_Gaode['cost'] = ODa_Gaode['cost'].combine_first(exception_df_re['cost'])"
   ]
  },
  {
   "cell_type": "code",
   "execution_count": 38,
   "id": "b186e093-434d-48c5-a1ee-b641c6d2c558",
   "metadata": {},
   "outputs": [
    {
     "name": "stdout",
     "output_type": "stream",
     "text": [
      "name           416\n",
      "sum_pop          0\n",
      "geometry_x       0\n",
      "cen              0\n",
      "Popid            0\n",
      "longitude_x      0\n",
      "latitude_x       0\n",
      "area             0\n",
      "Coparkid         0\n",
      "polygonStr       0\n",
      "avg_area         0\n",
      "longitude_y      0\n",
      "latitude_y       0\n",
      "geometry_y       0\n",
      "length           0\n",
      "lng_x_gcj02      0\n",
      "lat_x_gcj02      0\n",
      "lng_y_gcj02      0\n",
      "lat_y_gcj02      0\n",
      "distance         0\n",
      "cost             0\n",
      "dtype: int64\n"
     ]
    }
   ],
   "source": [
    "print(ODa_Gaode.isnull().sum())"
   ]
  },
  {
   "cell_type": "code",
   "execution_count": 39,
   "id": "361d9bf8-98f7-441b-a648-51cd522b1b01",
   "metadata": {},
   "outputs": [],
   "source": [
    "# 7 转换为数\n",
    "ODa_Gaode['cost'] = ODa_Gaode['cost'].astype(float)\n",
    "ODa_Gaode['distance'] = ODa_Gaode['distance'].astype(float)"
   ]
  },
  {
   "cell_type": "code",
   "execution_count": 40,
   "id": "b6005029-0261-48ac-9e1b-6255039fc9d0",
   "metadata": {},
   "outputs": [],
   "source": [
    "ODa_Gaode.to_csv('tmp/ODa_Gaode.csv',index=False,encoding='utf-8')"
   ]
  },
  {
   "cell_type": "code",
   "execution_count": 41,
   "id": "e8c70857-15f6-4cc7-9ce3-7a75f87bab42",
   "metadata": {},
   "outputs": [
    {
     "data": {
      "text/plain": [
       "608"
      ]
     },
     "execution_count": 41,
     "metadata": {},
     "output_type": "execute_result"
    }
   ],
   "source": [
    "# 8 以10min，即600s为阈值，计算Ga2SFCA,得到每个popcell的可达性\n",
    "f_ODa_Gaode = ODa_Gaode[ODa_Gaode['cost'] <= 600]\n",
    "\n",
    "f_ODa_Gaode.reset_index(drop = True, inplace = True)\n",
    "\n",
    "len(f_ODa_Gaode)\n",
    "len(f_ODa_Gaode['Popid'].unique())"
   ]
  },
  {
   "cell_type": "code",
   "execution_count": 42,
   "id": "8b1175d0-965d-4875-90e0-e758b0bf732a",
   "metadata": {},
   "outputs": [],
   "source": [
    "# 9 定义函数\n",
    "def Ga_600s(dij):\n",
    "    e=math.exp(1)\n",
    "    g=(e**(-0.5*(dij/600)**2)-e**(-0.5))/(1-e**(-0.5)) # dij是供给和需求之间的长度（时间cost or 距离distance），600s是阈值（时长or距离）\n",
    "    return g\n",
    "\n",
    "def Get_Rj(x):\n",
    "    x=x.reset_index()\n",
    "    Sj=x['area'][0]\n",
    "    \n",
    "    dt=0\n",
    "    for i in range(len(x)):\n",
    "        vl=x['sum_pop'][i]*Ga_600s(x['cost'][i])\n",
    "        dt=dt+vl\n",
    "    return Sj/dt\n",
    "\n",
    "def Get_Ai(x):\n",
    "    x=x.reset_index()\n",
    "    \n",
    "    dt=0\n",
    "    for i in range(len(x)):\n",
    "        vl=x['Rj'][i]*Ga_600s(x['cost'][i])\n",
    "        dt=dt+vl\n",
    "    return dt"
   ]
  },
  {
   "cell_type": "code",
   "execution_count": 43,
   "id": "8d88f1dc-4563-47fe-9df4-da4a5ef0e0e6",
   "metadata": {},
   "outputs": [],
   "source": [
    "# 10 step1 计算每个公园的Rj\n",
    "# 公园面积 ➗ 该公园搜索阈以内的人口数\n",
    "\n",
    "park_s1 = f_ODa_Gaode.groupby(by='Coparkid').apply(Get_Rj).reset_index()\n",
    "park_s1 = park_s1.rename(columns={0: 'Rj'})\n",
    "\n",
    "f_ODa_Gaode = pd.merge(f_ODa_Gaode,park_s1 [['Coparkid', 'Rj']], on='Coparkid', how='left')"
   ]
  },
  {
   "cell_type": "code",
   "execution_count": 44,
   "id": "34fbbde8-89df-4448-8e24-2e87d738fb1c",
   "metadata": {},
   "outputs": [],
   "source": [
    "# 11 step2 计算每个pop cell的Ai\n",
    "# 每个供给点popcell,搜索阈以内的Rj,即park_v1\n",
    "pop_s1 = f_ODa_Gaode.groupby(by='Popid').apply(Get_Ai).reset_index()\n",
    "pop_s1 = pop_s1.rename(columns={0: 'Ai'})\n",
    "\n",
    "f_ODa_Gaode = pd.merge(f_ODa_Gaode,pop_s1[['Popid', 'Ai']], on='Popid', how='left')"
   ]
  },
  {
   "cell_type": "code",
   "execution_count": 45,
   "id": "724e3fc3-f3b4-4fad-87ba-f71831478d04",
   "metadata": {},
   "outputs": [
    {
     "data": {
      "text/plain": [
       "608"
      ]
     },
     "execution_count": 45,
     "metadata": {},
     "output_type": "execute_result"
    }
   ],
   "source": [
    "# 12 简化\n",
    "access_socre_a = f_ODa_Gaode[['Popid', 'sum_pop', 'geometry_x', 'Ai']]\n",
    "access_socre_a = access_socre_a.rename(columns={'geometry_x':'geometry'})\n",
    "access_socre_a.drop_duplicates(inplace=True)\n",
    "len(access_socre_a)"
   ]
  },
  {
   "cell_type": "code",
   "execution_count": 48,
   "id": "4273d037-0fbe-45ca-8b65-2eff4816ac39",
   "metadata": {},
   "outputs": [],
   "source": [
    "result_a = pop_resid.merge(access_socre_a[['Popid', 'Ai']], on='Popid', how='left')"
   ]
  },
  {
   "cell_type": "code",
   "execution_count": 53,
   "id": "2f505f9c-4e53-409e-8939-5d8f8fc325b0",
   "metadata": {},
   "outputs": [
    {
     "data": {
      "text/html": [
       "<div>\n",
       "<style scoped>\n",
       "    .dataframe tbody tr th:only-of-type {\n",
       "        vertical-align: middle;\n",
       "    }\n",
       "\n",
       "    .dataframe tbody tr th {\n",
       "        vertical-align: top;\n",
       "    }\n",
       "\n",
       "    .dataframe thead th {\n",
       "        text-align: right;\n",
       "    }\n",
       "</style>\n",
       "<table border=\"1\" class=\"dataframe\">\n",
       "  <thead>\n",
       "    <tr style=\"text-align: right;\">\n",
       "      <th></th>\n",
       "      <th>name</th>\n",
       "      <th>sum_pop</th>\n",
       "      <th>geometry</th>\n",
       "      <th>cen</th>\n",
       "      <th>Popid</th>\n",
       "      <th>longitude</th>\n",
       "      <th>latitude</th>\n",
       "      <th>index</th>\n",
       "      <th>Ai</th>\n",
       "    </tr>\n",
       "  </thead>\n",
       "  <tbody>\n",
       "    <tr>\n",
       "      <th>0</th>\n",
       "      <td>None</td>\n",
       "      <td>7276.136558</td>\n",
       "      <td>POLYGON ((114.46834 22.60207, 114.46765 22.601...</td>\n",
       "      <td>POINT (114.47232 22.59552)</td>\n",
       "      <td>1</td>\n",
       "      <td>114.472319</td>\n",
       "      <td>22.595523</td>\n",
       "      <td>1</td>\n",
       "      <td>2.924363</td>\n",
       "    </tr>\n",
       "    <tr>\n",
       "      <th>1</th>\n",
       "      <td>None</td>\n",
       "      <td>1217.979429</td>\n",
       "      <td>POLYGON ((114.49399 22.53761, 114.49294 22.535...</td>\n",
       "      <td>POINT (114.48832 22.53681)</td>\n",
       "      <td>2</td>\n",
       "      <td>114.488317</td>\n",
       "      <td>22.536814</td>\n",
       "      <td>1</td>\n",
       "      <td>NaN</td>\n",
       "    </tr>\n",
       "    <tr>\n",
       "      <th>2</th>\n",
       "      <td>?????</td>\n",
       "      <td>2048.236732</td>\n",
       "      <td>POLYGON ((114.17310 22.64141, 114.17391 22.641...</td>\n",
       "      <td>POINT (114.17423 22.63940)</td>\n",
       "      <td>4</td>\n",
       "      <td>114.174231</td>\n",
       "      <td>22.639398</td>\n",
       "      <td>1</td>\n",
       "      <td>NaN</td>\n",
       "    </tr>\n",
       "    <tr>\n",
       "      <th>3</th>\n",
       "      <td>None</td>\n",
       "      <td>11243.644833</td>\n",
       "      <td>POLYGON ((114.10559 22.61673, 114.10483 22.616...</td>\n",
       "      <td>POINT (114.10326 22.61540)</td>\n",
       "      <td>5</td>\n",
       "      <td>114.103263</td>\n",
       "      <td>22.615398</td>\n",
       "      <td>1</td>\n",
       "      <td>NaN</td>\n",
       "    </tr>\n",
       "    <tr>\n",
       "      <th>4</th>\n",
       "      <td>None</td>\n",
       "      <td>875.631427</td>\n",
       "      <td>POLYGON ((114.18524 22.59461, 114.18549 22.595...</td>\n",
       "      <td>POINT (114.18960 22.59443)</td>\n",
       "      <td>6</td>\n",
       "      <td>114.189601</td>\n",
       "      <td>22.594434</td>\n",
       "      <td>1</td>\n",
       "      <td>NaN</td>\n",
       "    </tr>\n",
       "  </tbody>\n",
       "</table>\n",
       "</div>"
      ],
      "text/plain": [
       "    name       sum_pop                                           geometry  \\\n",
       "0   None   7276.136558  POLYGON ((114.46834 22.60207, 114.46765 22.601...   \n",
       "1   None   1217.979429  POLYGON ((114.49399 22.53761, 114.49294 22.535...   \n",
       "2  ?????   2048.236732  POLYGON ((114.17310 22.64141, 114.17391 22.641...   \n",
       "3   None  11243.644833  POLYGON ((114.10559 22.61673, 114.10483 22.616...   \n",
       "4   None    875.631427  POLYGON ((114.18524 22.59461, 114.18549 22.595...   \n",
       "\n",
       "                          cen  Popid   longitude   latitude  index        Ai  \n",
       "0  POINT (114.47232 22.59552)      1  114.472319  22.595523      1  2.924363  \n",
       "1  POINT (114.48832 22.53681)      2  114.488317  22.536814      1       NaN  \n",
       "2  POINT (114.17423 22.63940)      4  114.174231  22.639398      1       NaN  \n",
       "3  POINT (114.10326 22.61540)      5  114.103263  22.615398      1       NaN  \n",
       "4  POINT (114.18960 22.59443)      6  114.189601  22.594434      1       NaN  "
      ]
     },
     "execution_count": 53,
     "metadata": {},
     "output_type": "execute_result"
    }
   ],
   "source": [
    "result_a.head()"
   ]
  },
  {
   "cell_type": "code",
   "execution_count": 54,
   "id": "93b81281-e9b8-41b7-b7f0-13a5010b01af",
   "metadata": {},
   "outputs": [],
   "source": [
    "result_a = result_a[['sum_pop', 'geometry', 'Popid', 'Ai']]"
   ]
  },
  {
   "cell_type": "code",
   "execution_count": 55,
   "id": "96ebffc9-6eed-4546-89b0-ca11ed9b9497",
   "metadata": {},
   "outputs": [],
   "source": [
    "result_a.to_file('tmp/result_a.geojson')"
   ]
  },
  {
   "cell_type": "markdown",
   "id": "29434e9e-7505-43eb-ad1b-a0dfd0a79551",
   "metadata": {},
   "source": [
    "### b) Walking——City park——Travel time thresholds =20min "
   ]
  },
  {
   "cell_type": "code",
   "execution_count": 56,
   "id": "a288c063-d0de-4983-b8a9-d8f45b846106",
   "metadata": {},
   "outputs": [],
   "source": [
    "# 1 连接pop和park\n",
    "pop_resid['index'] = 1\n",
    "city_park['index'] = 1\n",
    "OD_b = pd.merge(pop_resid, city_park, on='index').drop('index', axis=1)"
   ]
  },
  {
   "cell_type": "code",
   "execution_count": 57,
   "id": "3d34a0f8-25bb-4d9f-b676-e331cb27a507",
   "metadata": {},
   "outputs": [
    {
     "data": {
      "text/plain": [
       "754964"
      ]
     },
     "execution_count": 57,
     "metadata": {},
     "output_type": "execute_result"
    }
   ],
   "source": [
    "len(OD_b)"
   ]
  },
  {
   "cell_type": "code",
   "execution_count": 58,
   "id": "93ea4c21-cd8e-41f6-a41f-048f1b900620",
   "metadata": {},
   "outputs": [],
   "source": [
    "# 2 根据OD左边计算直线距离，得到新列length\n",
    "OD_b['length'] = OD_b[['longitude_x', 'latitude_x','longitude_y', 'latitude_y',]].\\\n",
    "apply(lambda x:haversine(x[0],x[1],x[2],x[3]),axis=1)"
   ]
  },
  {
   "cell_type": "code",
   "execution_count": 59,
   "id": "5404b405-c7e0-4b2f-b7e4-4c423ce0cd73",
   "metadata": {},
   "outputs": [],
   "source": [
    "# 3 筛选lenth<=1500m的OD对\n",
    "f_OD_b = OD_b[(OD_b['length'] <= 1500)]\n",
    "\n",
    "# 只保留同一个公园直线距离最近的入口\n",
    "idx = f_OD_b.groupby(['Popid', 'Cityparkid'])['length'].idxmin()\n",
    "f_OD_b = f_OD_b.loc[idx]"
   ]
  },
  {
   "cell_type": "code",
   "execution_count": 60,
   "id": "d59a99e0-d288-4238-8606-bed9e687e008",
   "metadata": {},
   "outputs": [
    {
     "data": {
      "text/plain": [
       "2150"
      ]
     },
     "execution_count": 60,
     "metadata": {},
     "output_type": "execute_result"
    }
   ],
   "source": [
    "len(f_OD_b)"
   ]
  },
  {
   "cell_type": "code",
   "execution_count": 61,
   "id": "f6919c64-14b3-424d-bb64-c84ce7173445",
   "metadata": {},
   "outputs": [],
   "source": [
    "# 4 转换WGS84坐标为GCJ02，便于下一步高德api计算\n",
    "new_columns = f_OD_b.apply(transform_coordinates, axis=1)\n",
    "# 合并原始 DataFrame 和新列\n",
    "f_OD_b_GCJ02 = pd.concat([f_OD_b, new_columns], axis=1)"
   ]
  },
  {
   "cell_type": "code",
   "execution_count": 62,
   "id": "64ceb0b0-82ac-4688-acd9-c2d4f10e74c7",
   "metadata": {},
   "outputs": [
    {
     "data": {
      "text/plain": [
       "2150"
      ]
     },
     "execution_count": 62,
     "metadata": {},
     "output_type": "execute_result"
    }
   ],
   "source": [
    "len(f_OD_b_GCJ02)"
   ]
  },
  {
   "cell_type": "code",
   "execution_count": 63,
   "id": "beecc021-a038-4422-9694-1e97ffca7ec2",
   "metadata": {},
   "outputs": [
    {
     "name": "stdout",
     "output_type": "stream",
     "text": [
      "Error processing row 317716: <urlopen error EOF occurred in violation of protocol (_ssl.c:997)>\n",
      "Error processing row 350004: <urlopen error EOF occurred in violation of protocol (_ssl.c:997)>\n",
      "Error processing row 389174: <urlopen error EOF occurred in violation of protocol (_ssl.c:997)>\n",
      "Exception rows: [317716, 350004, 389174]\n",
      "Run time:  28.838023257255553 mins\n"
     ]
    }
   ],
   "source": [
    "# 5 使用api计算高德地图时间距离\n",
    "start_time = time.time()\n",
    "\n",
    "ODb_Gaode, exception_rows = fetch_GaodeMap_walking(f_OD_b_GCJ02)\n",
    "print(\"Exception rows:\", exception_rows)\n",
    "\n",
    "end_time = time.time()\n",
    "execution_time = (end_time - start_time)/60\n",
    "print(\"Run time: \", execution_time, \"mins\")"
   ]
  },
  {
   "cell_type": "code",
   "execution_count": 65,
   "id": "63579d80-d2c9-4679-bec3-014c8b99bde3",
   "metadata": {},
   "outputs": [],
   "source": [
    "# 6 检查问题行\n",
    "exception_df = f_OD_b_GCJ02.loc[exception_rows]\n",
    "\n",
    "# Calculate Gaode map for exception_df travel time and travel distance again\n",
    "exception_df_re,exception = fetch_GaodeMap_walking(exception_df)\n",
    "\n",
    "ODb_Gaode['distance'] = ODb_Gaode['distance'].combine_first(exception_df_re['distance'])\n",
    "ODb_Gaode['cost'] = ODb_Gaode['cost'].combine_first(exception_df_re['cost'])"
   ]
  },
  {
   "cell_type": "code",
   "execution_count": 66,
   "id": "db02c0aa-d045-47f7-ae3e-1ea8d328a5d7",
   "metadata": {},
   "outputs": [
    {
     "name": "stdout",
     "output_type": "stream",
     "text": [
      "name           461\n",
      "sum_pop          0\n",
      "geometry_x       0\n",
      "cen              0\n",
      "Popid            0\n",
      "longitude_x      0\n",
      "latitude_x       0\n",
      "area             0\n",
      "Cityparkid       0\n",
      "count            0\n",
      "avg_area         0\n",
      "longitude_y      0\n",
      "latitude_y       0\n",
      "polygonStr       0\n",
      "geometry_y       0\n",
      "length           0\n",
      "lng_x_gcj02      0\n",
      "lat_x_gcj02      0\n",
      "lng_y_gcj02      0\n",
      "lat_y_gcj02      0\n",
      "distance         0\n",
      "cost             0\n",
      "dtype: int64\n"
     ]
    }
   ],
   "source": [
    "print(ODb_Gaode.isnull().sum())"
   ]
  },
  {
   "cell_type": "code",
   "execution_count": 72,
   "id": "c3616755-9122-4dde-8e06-452f2dc8b05a",
   "metadata": {},
   "outputs": [],
   "source": [
    "# 7 转换为数\n",
    "ODb_Gaode['cost'] = ODb_Gaode['cost'].astype(float)\n",
    "ODb_Gaode['distance'] = ODb_Gaode['distance'].astype(float)"
   ]
  },
  {
   "cell_type": "code",
   "execution_count": 73,
   "id": "55277a90-13b2-4148-a256-307d357ececa",
   "metadata": {},
   "outputs": [],
   "source": [
    "ODb_Gaode.to_csv('tmp/ODb_Gaode.csv',index=False,encoding='utf-8')"
   ]
  },
  {
   "cell_type": "code",
   "execution_count": 74,
   "id": "8287e41d-5747-4be2-941f-fe7c71af7ee2",
   "metadata": {},
   "outputs": [
    {
     "data": {
      "text/plain": [
       "907"
      ]
     },
     "execution_count": 74,
     "metadata": {},
     "output_type": "execute_result"
    }
   ],
   "source": [
    "# 8 以20min，即1200s为阈值，计算Ga2SFCA,得到每个popcell的可达性\n",
    "f_ODb_Gaode = ODb_Gaode[ODb_Gaode['cost'] <= 1200]\n",
    "\n",
    "f_ODb_Gaode.reset_index(drop = True, inplace = True)\n",
    "\n",
    "len(f_ODb_Gaode)\n",
    "len(f_ODb_Gaode['Popid'].unique())"
   ]
  },
  {
   "cell_type": "code",
   "execution_count": 75,
   "id": "b72e7732-4f8c-4636-a06f-106fdee6d130",
   "metadata": {},
   "outputs": [],
   "source": [
    "# 9 定义函数\n",
    "def Ga_1200s(dij):\n",
    "    e=math.exp(1)\n",
    "    g=(e**(-0.5*(dij/1200)**2)-e**(-0.5))/(1-e**(-0.5)) # dij是供给和需求之间的长度（时间cost or 距离distance），600s是阈值（时长or距离）\n",
    "    return g\n",
    "\n",
    "def Get_Rj(x):\n",
    "    x=x.reset_index()\n",
    "    Sj=x['area'][0]\n",
    "    \n",
    "    dt=0\n",
    "    for i in range(len(x)):\n",
    "        vl=x['sum_pop'][i]*Ga_1200s(x['cost'][i])\n",
    "        dt=dt+vl\n",
    "    return Sj/dt\n",
    "\n",
    "def Get_Ai(x):\n",
    "    x=x.reset_index()\n",
    "    \n",
    "    dt=0\n",
    "    for i in range(len(x)):\n",
    "        vl=x['Rj'][i]*Ga_1200s(x['cost'][i])\n",
    "        dt=dt+vl\n",
    "    return dt"
   ]
  },
  {
   "cell_type": "code",
   "execution_count": 76,
   "id": "dd5a1594-c83d-4eea-8947-7ae93a95551d",
   "metadata": {},
   "outputs": [],
   "source": [
    "# 10 step1 计算每个公园的Rj\n",
    "# 公园面积 ➗ 该公园搜索阈以内的人口数\n",
    "\n",
    "park_s2 = f_ODb_Gaode.groupby(by='Cityparkid').apply(Get_Rj).reset_index()\n",
    "park_s2 = park_s2.rename(columns={0: 'Rj'})\n",
    "\n",
    "f_ODb_Gaode = pd.merge(f_ODb_Gaode,park_s2 [['Cityparkid', 'Rj']], on='Cityparkid', how='left')"
   ]
  },
  {
   "cell_type": "code",
   "execution_count": 77,
   "id": "12cbb54f-df36-4a4c-bbdd-e73364d14171",
   "metadata": {},
   "outputs": [],
   "source": [
    "# 11 step2 计算每个pop cell的Ai\n",
    "# 每个供给点popcell,搜索阈以内的Rj,即park_v1\n",
    "pop_s2 = f_ODb_Gaode.groupby(by='Popid').apply(Get_Ai).reset_index()\n",
    "pop_s2 = pop_s2.rename(columns={0: 'Ai'})\n",
    "\n",
    "f_ODb_Gaode = pd.merge(f_ODb_Gaode,pop_s2[['Popid', 'Ai']], on='Popid', how='left')"
   ]
  },
  {
   "cell_type": "code",
   "execution_count": 78,
   "id": "60e9e6d0-5c4b-46eb-b2db-5c4f6920b942",
   "metadata": {},
   "outputs": [
    {
     "data": {
      "text/plain": [
       "907"
      ]
     },
     "execution_count": 78,
     "metadata": {},
     "output_type": "execute_result"
    }
   ],
   "source": [
    "# 12 简化\n",
    "access_socre_b = f_ODb_Gaode[['Popid', 'sum_pop', 'geometry_x', 'Ai']]\n",
    "access_socre_b = access_socre_b.rename(columns={'geometry_x':'geometry'})\n",
    "access_socre_b.drop_duplicates(inplace=True)\n",
    "len(access_socre_b)"
   ]
  },
  {
   "cell_type": "code",
   "execution_count": 79,
   "id": "762deb65-e7cf-48de-be64-42a598d6578b",
   "metadata": {},
   "outputs": [],
   "source": [
    "result_b = pop_resid.merge(access_socre_b[['Popid', 'Ai']], on='Popid', how='left')"
   ]
  },
  {
   "cell_type": "code",
   "execution_count": 80,
   "id": "1e275acc-2925-44ce-ad38-a40ae5df3696",
   "metadata": {},
   "outputs": [],
   "source": [
    "result_b = result_b[['sum_pop', 'geometry', 'Popid', 'Ai']]"
   ]
  },
  {
   "cell_type": "code",
   "execution_count": 81,
   "id": "789c7d5a-b7d8-44ad-8fcf-0883dd957e69",
   "metadata": {},
   "outputs": [],
   "source": [
    "result_b.to_file('tmp/result_b.geojson')"
   ]
  },
  {
   "cell_type": "markdown",
   "id": "6e5103d9-9d5a-4e0f-b1b0-19896a2be9c2",
   "metadata": {},
   "source": [
    "### c) Walking——Natural park——Travel time thresholds =30min"
   ]
  },
  {
   "cell_type": "code",
   "execution_count": 82,
   "id": "b824b208-6d90-4581-ac88-4443b7e7bc24",
   "metadata": {},
   "outputs": [],
   "source": [
    "# 1 连接pop和park\n",
    "pop_resid['index'] = 1\n",
    "nature_park['index'] = 1\n",
    "OD_c = pd.merge(pop_resid, nature_park, on='index').drop('index', axis=1)"
   ]
  },
  {
   "cell_type": "code",
   "execution_count": 83,
   "id": "1957cd13-cb49-487c-9697-51009b7329c9",
   "metadata": {},
   "outputs": [
    {
     "data": {
      "text/plain": [
       "162692"
      ]
     },
     "execution_count": 83,
     "metadata": {},
     "output_type": "execute_result"
    }
   ],
   "source": [
    "len(OD_c)"
   ]
  },
  {
   "cell_type": "code",
   "execution_count": 84,
   "id": "9aa8c19f-59d3-4433-8cdc-8a7ef4882995",
   "metadata": {},
   "outputs": [],
   "source": [
    "# 2 根据OD左边计算直线距离，得到新列length\n",
    "OD_c['length'] = OD_c[['longitude_x', 'latitude_x','longitude_y', 'latitude_y',]].\\\n",
    "apply(lambda x:haversine(x[0],x[1],x[2],x[3]),axis=1)"
   ]
  },
  {
   "cell_type": "code",
   "execution_count": 85,
   "id": "7b1ffe13-7cbb-4225-ba29-4bb21a5820a7",
   "metadata": {},
   "outputs": [],
   "source": [
    "# 3 筛选lenth<=2250m的OD对\n",
    "f_OD_c = OD_c[(OD_c['length'] <= 2250)]\n",
    "\n",
    "# 只保留同一个公园直线距离最近的入口\n",
    "idx = f_OD_c.groupby(['Popid', 'Natureparkid'])['length'].idxmin()\n",
    "f_OD_c = f_OD_c.loc[idx]"
   ]
  },
  {
   "cell_type": "code",
   "execution_count": 86,
   "id": "765faf3a-7816-4f78-8282-45a43963ba4c",
   "metadata": {},
   "outputs": [
    {
     "data": {
      "text/plain": [
       "482"
      ]
     },
     "execution_count": 86,
     "metadata": {},
     "output_type": "execute_result"
    }
   ],
   "source": [
    "len(f_OD_c)"
   ]
  },
  {
   "cell_type": "code",
   "execution_count": 87,
   "id": "74aff81c-affe-4d4e-80cd-8e8c637d91ee",
   "metadata": {},
   "outputs": [],
   "source": [
    "# 4 转换WGS84坐标为GCJ02，便于下一步高德api计算\n",
    "new_columns = f_OD_c.apply(transform_coordinates, axis=1)\n",
    "# 合并原始 DataFrame 和新列\n",
    "f_OD_c_GCJ02 = pd.concat([f_OD_c, new_columns], axis=1)"
   ]
  },
  {
   "cell_type": "code",
   "execution_count": 88,
   "id": "2ccf4b1b-6d7e-47d2-af71-45e9ad411679",
   "metadata": {},
   "outputs": [
    {
     "data": {
      "text/plain": [
       "482"
      ]
     },
     "execution_count": 88,
     "metadata": {},
     "output_type": "execute_result"
    }
   ],
   "source": [
    "len(f_OD_c_GCJ02)"
   ]
  },
  {
   "cell_type": "code",
   "execution_count": 89,
   "id": "6faa81aa-196b-439b-9cee-3599214b5e23",
   "metadata": {},
   "outputs": [
    {
     "name": "stdout",
     "output_type": "stream",
     "text": [
      "Exception rows: []\n",
      "Run time:  6.431661494572958 mins\n"
     ]
    }
   ],
   "source": [
    "# 5 使用api计算高德地图时间距离\n",
    "start_time = time.time()\n",
    "\n",
    "ODc_Gaode, exception_rows = fetch_GaodeMap_walking(f_OD_c_GCJ02)\n",
    "print(\"Exception rows:\", exception_rows)\n",
    "\n",
    "end_time = time.time()\n",
    "execution_time = (end_time - start_time)/60\n",
    "print(\"Run time: \", execution_time, \"mins\")"
   ]
  },
  {
   "cell_type": "code",
   "execution_count": null,
   "id": "a448b18e-0391-4106-a9f3-58e0439bff81",
   "metadata": {},
   "outputs": [],
   "source": [
    "# # 6 检查问题行\n",
    "# exception_df = f_OD_b_GCJ02.loc[exception_rows]\n",
    "\n",
    "# # Calculate Gaode map for exception_df travel time and travel distance again\n",
    "# exception_df_re,exception = fetch_GaodeMap_walking(exception_df)\n",
    "\n",
    "# ODb_Gaode['distance'] = ODb_Gaode['distance'].combine_first(exception_df_re['distance'])\n",
    "# ODb_Gaode['cost'] = ODb_Gaode['cost'].combine_first(exception_df_re['cost'])"
   ]
  },
  {
   "cell_type": "code",
   "execution_count": 90,
   "id": "d5d51441-bf21-4cba-a05a-14adc57a508a",
   "metadata": {},
   "outputs": [
    {
     "name": "stdout",
     "output_type": "stream",
     "text": [
      "name            98\n",
      "sum_pop          0\n",
      "geometry_x       0\n",
      "cen              0\n",
      "Popid            0\n",
      "longitude_x      0\n",
      "latitude_x       0\n",
      "area             0\n",
      "Natureparkid     0\n",
      "count            0\n",
      "avg_area         0\n",
      "longitude_y      0\n",
      "latitude_y       0\n",
      "polygonStr       0\n",
      "geometry_y       0\n",
      "length           0\n",
      "lng_x_gcj02      0\n",
      "lat_x_gcj02      0\n",
      "lng_y_gcj02      0\n",
      "lat_y_gcj02      0\n",
      "distance         0\n",
      "cost             0\n",
      "dtype: int64\n"
     ]
    }
   ],
   "source": [
    "print(ODc_Gaode.isnull().sum())"
   ]
  },
  {
   "cell_type": "code",
   "execution_count": 91,
   "id": "118c863f-89fc-4828-845f-5f9574596800",
   "metadata": {},
   "outputs": [],
   "source": [
    "# 7 转换为数\n",
    "ODc_Gaode['cost'] = ODc_Gaode['cost'].astype(float)\n",
    "ODc_Gaode['distance'] = ODc_Gaode['distance'].astype(float)"
   ]
  },
  {
   "cell_type": "code",
   "execution_count": 92,
   "id": "87d1c9ab-4009-4e92-9444-60e1863a0731",
   "metadata": {},
   "outputs": [],
   "source": [
    "ODc_Gaode.to_csv('tmp/ODc_Gaode.csv',index=False,encoding='utf-8')"
   ]
  },
  {
   "cell_type": "code",
   "execution_count": 115,
   "id": "bf69921e-ce75-4bb0-bb36-58f2ef205e15",
   "metadata": {},
   "outputs": [
    {
     "data": {
      "text/plain": [
       "288"
      ]
     },
     "execution_count": 115,
     "metadata": {},
     "output_type": "execute_result"
    }
   ],
   "source": [
    "# 8 以30min，即1800s为阈值，计算Ga2SFCA,得到每个popcell的可达性\n",
    "f_ODc_Gaode = ODc_Gaode[ODc_Gaode['cost'] <= 1800]\n",
    "\n",
    "f_ODc_Gaode.reset_index(drop = True, inplace = True)\n",
    "\n",
    "len(f_ODc_Gaode)\n",
    "len(f_ODc_Gaode['Popid'].unique())"
   ]
  },
  {
   "cell_type": "code",
   "execution_count": 116,
   "id": "c803e741-6a02-407c-8e8a-3f6a3d6a9615",
   "metadata": {},
   "outputs": [],
   "source": [
    "# 9 定义函数\n",
    "def Ga_1800s(dij):\n",
    "    e=math.exp(1)\n",
    "    g=(e**(-0.5*(dij/1800)**2)-e**(-0.5))/(1-e**(-0.5)) # dij是供给和需求之间的长度（时间cost or 距离distance），600s是阈值（时长or距离）\n",
    "    return g\n",
    "\n",
    "def Get_Rj(x):\n",
    "    x=x.reset_index()\n",
    "    Sj=x['area'][0]\n",
    "    \n",
    "    dt=0\n",
    "    for i in range(len(x)):\n",
    "        vl=x['sum_pop'][i]*Ga_1800s(x['cost'][i])\n",
    "        dt=dt+vl\n",
    "    return Sj/dt\n",
    "\n",
    "def Get_Ai(x):\n",
    "    x=x.reset_index()\n",
    "    \n",
    "    dt=0\n",
    "    for i in range(len(x)):\n",
    "        vl=x['Rj'][i]*Ga_1800s(x['cost'][i])\n",
    "        dt=dt+vl\n",
    "    return dt"
   ]
  },
  {
   "cell_type": "code",
   "execution_count": 117,
   "id": "cba449f5-2946-41e4-9967-824db936945a",
   "metadata": {},
   "outputs": [],
   "source": [
    "# 10 step1 计算每个公园的Rj\n",
    "# 公园面积 ➗ 该公园搜索阈以内的人口数\n",
    "\n",
    "park_s3 = f_ODc_Gaode.groupby(by='Natureparkid').apply(Get_Rj).reset_index()\n",
    "park_s3 = park_s3.rename(columns={0: 'Rj'})\n",
    "\n",
    "f_ODc_Gaode = pd.merge(f_ODc_Gaode,park_s3 [['Natureparkid', 'Rj']], on='Natureparkid', how='left')"
   ]
  },
  {
   "cell_type": "code",
   "execution_count": 118,
   "id": "8e0373d4-ad8b-4693-8dc6-b15dc920b6ae",
   "metadata": {},
   "outputs": [],
   "source": [
    "# 11 step2 计算每个pop cell的Ai\n",
    "# 每个供给点popcell,搜索阈以内的Rj,即park_v1\n",
    "pop_s3 = f_ODc_Gaode.groupby(by='Popid').apply(Get_Ai).reset_index()\n",
    "pop_s3 = pop_s3.rename(columns={0: 'Ai'})\n",
    "\n",
    "f_ODc_Gaode = pd.merge(f_ODc_Gaode,pop_s3[['Popid', 'Ai']], on='Popid', how='left')"
   ]
  },
  {
   "cell_type": "code",
   "execution_count": 119,
   "id": "2037a2d8-e5ee-420c-9b1c-f0a269b1c7d6",
   "metadata": {},
   "outputs": [
    {
     "data": {
      "text/plain": [
       "288"
      ]
     },
     "execution_count": 119,
     "metadata": {},
     "output_type": "execute_result"
    }
   ],
   "source": [
    "# 12 简化\n",
    "access_socre_c = f_ODc_Gaode[['Popid', 'sum_pop', 'geometry_x', 'Ai']]\n",
    "access_socre_c = access_socre_c.rename(columns={'geometry_x':'geometry'})\n",
    "access_socre_c.drop_duplicates(inplace=True)\n",
    "len(access_socre_c)"
   ]
  },
  {
   "cell_type": "code",
   "execution_count": 120,
   "id": "dbd47626-464c-4e67-b11f-652cc65056af",
   "metadata": {},
   "outputs": [],
   "source": [
    "result_c = pop_resid.merge(access_socre_c[['Popid', 'Ai']], on='Popid', how='left')"
   ]
  },
  {
   "cell_type": "code",
   "execution_count": 121,
   "id": "1a37aae0-b642-458b-bce8-cbb1dd495e0f",
   "metadata": {},
   "outputs": [],
   "source": [
    "result_c = result_c[['sum_pop', 'geometry', 'Popid', 'Ai']]"
   ]
  },
  {
   "cell_type": "code",
   "execution_count": 122,
   "id": "8b6e2b28-b095-421a-b7b6-5ae438dadfe9",
   "metadata": {},
   "outputs": [],
   "source": [
    "result_c.to_file('tmp/result_c.geojson')"
   ]
  },
  {
   "cell_type": "code",
   "execution_count": null,
   "id": "b544f77c-9eae-41be-9af7-73fb2b8c61a0",
   "metadata": {},
   "outputs": [],
   "source": []
  },
  {
   "cell_type": "code",
   "execution_count": null,
   "id": "a9f675a3-3a19-4caa-875f-7d4f1d9b38a1",
   "metadata": {},
   "outputs": [],
   "source": []
  }
 ],
 "metadata": {
  "kernelspec": {
   "display_name": "Python 3 (ipykernel)",
   "language": "python",
   "name": "python3"
  },
  "language_info": {
   "codemirror_mode": {
    "name": "ipython",
    "version": 3
   },
   "file_extension": ".py",
   "mimetype": "text/x-python",
   "name": "python",
   "nbconvert_exporter": "python",
   "pygments_lexer": "ipython3",
   "version": "3.10.5"
  }
 },
 "nbformat": 4,
 "nbformat_minor": 5
}
